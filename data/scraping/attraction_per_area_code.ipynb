{
 "cells": [
  {
   "cell_type": "code",
   "execution_count": 27,
   "metadata": {},
   "outputs": [],
   "source": [
    "service_key = 'rf2THTSq3Rnvz7yUJWlRW2YjsfVvxufJssCC4SgBAcoGXoIE%2FfZH72XMDiy4AYxbmYQXRGYxAFKO1%2BAKnL91rg%3D%3D'\n",
    "TEMPLATE = \"http://apis.data.go.kr/B551011/KorService1/areaBasedList1?areaCode=%d&numOfRows=10000000&pageNo=1&MobileOS=ETC&MobileApp=AppTest&_type=json&listYN=Y&arrange=A\""
   ]
  },
  {
   "cell_type": "code",
   "execution_count": 28,
   "metadata": {},
   "outputs": [
    {
     "name": "stdout",
     "output_type": "stream",
     "text": [
      "지역 코드 파일 목록: ['01_서울.json', '02_인천.json', '03_대전.json', '04_대구.json', '05_광주.json', '06_부산.json', '07_울산.json', '08_세종.json', '31_경기.json', '32_강원.json', '33_충북.json', '34_충남.json', '35_경북.json', '36_경남.json', '37_전북.json', '38_전남.json', '39_제주.json']\n",
      "지역 코드별 지역명: [(1, '서울'), (2, '인천'), (3, '대전'), (4, '대구'), (5, '광주'), (6, '부산'), (7, '울산'), (8, '세종'), (31, '경기'), (32, '강원'), (33, '충북'), (34, '충남'), (35, '경북'), (36, '경남'), (37, '전북'), (38, '전남'), (39, '제주')]\n"
     ]
    }
   ],
   "source": [
    "import os\n",
    "path = '../지역코드'\n",
    "\n",
    "area_code_file_names = list(filter(lambda fn: fn.endswith('.json'), os.listdir(path)))\n",
    "print('지역 코드 파일 목록:', area_code_file_names)\n",
    "\n",
    "area_codes = list(map(lambda fn: (int(fn.split('_')[0]), fn.split('_')[1].split('.')[0]), area_code_file_names))\n",
    "print('지역 코드별 지역명:', area_codes)"
   ]
  },
  {
   "cell_type": "code",
   "execution_count": 41,
   "metadata": {},
   "outputs": [
    {
     "name": "stdout",
     "output_type": "stream",
     "text": [
      "\n",
      "지역: 서울\n",
      "url: http://apis.data.go.kr/B551011/KorService1/areaBasedList1?areaCode=1&numOfRows=10000000&pageNo=1&MobileOS=ETC&MobileApp=AppTest&_type=json&listYN=Y&arrange=A&serviceKey=rf2THTSq3Rnvz7yUJWlRW2YjsfVvxufJssCC4SgBAcoGXoIE%2FfZH72XMDiy4AYxbmYQXRGYxAFKO1%2BAKnL91rg%3D%3D\n",
      ">>> 7502 건 (5.9 %)\n",
      "\n",
      "지역: 인천\n",
      "url: http://apis.data.go.kr/B551011/KorService1/areaBasedList1?areaCode=2&numOfRows=10000000&pageNo=1&MobileOS=ETC&MobileApp=AppTest&_type=json&listYN=Y&arrange=A&serviceKey=rf2THTSq3Rnvz7yUJWlRW2YjsfVvxufJssCC4SgBAcoGXoIE%2FfZH72XMDiy4AYxbmYQXRGYxAFKO1%2BAKnL91rg%3D%3D\n",
      ">>> 1972 건 (11.8 %)\n",
      "\n",
      "지역: 대전\n",
      "url: http://apis.data.go.kr/B551011/KorService1/areaBasedList1?areaCode=3&numOfRows=10000000&pageNo=1&MobileOS=ETC&MobileApp=AppTest&_type=json&listYN=Y&arrange=A&serviceKey=rf2THTSq3Rnvz7yUJWlRW2YjsfVvxufJssCC4SgBAcoGXoIE%2FfZH72XMDiy4AYxbmYQXRGYxAFKO1%2BAKnL91rg%3D%3D\n",
      ">>> 781 건 (17.6 %)\n",
      "\n",
      "지역: 대구\n",
      "url: http://apis.data.go.kr/B551011/KorService1/areaBasedList1?areaCode=4&numOfRows=10000000&pageNo=1&MobileOS=ETC&MobileApp=AppTest&_type=json&listYN=Y&arrange=A&serviceKey=rf2THTSq3Rnvz7yUJWlRW2YjsfVvxufJssCC4SgBAcoGXoIE%2FfZH72XMDiy4AYxbmYQXRGYxAFKO1%2BAKnL91rg%3D%3D\n",
      ">>> 1212 건 (23.5 %)\n",
      "\n",
      "지역: 광주\n",
      "url: http://apis.data.go.kr/B551011/KorService1/areaBasedList1?areaCode=5&numOfRows=10000000&pageNo=1&MobileOS=ETC&MobileApp=AppTest&_type=json&listYN=Y&arrange=A&serviceKey=rf2THTSq3Rnvz7yUJWlRW2YjsfVvxufJssCC4SgBAcoGXoIE%2FfZH72XMDiy4AYxbmYQXRGYxAFKO1%2BAKnL91rg%3D%3D\n",
      ">>> 588 건 (29.4 %)\n",
      "\n",
      "지역: 부산\n",
      "url: http://apis.data.go.kr/B551011/KorService1/areaBasedList1?areaCode=6&numOfRows=10000000&pageNo=1&MobileOS=ETC&MobileApp=AppTest&_type=json&listYN=Y&arrange=A&serviceKey=rf2THTSq3Rnvz7yUJWlRW2YjsfVvxufJssCC4SgBAcoGXoIE%2FfZH72XMDiy4AYxbmYQXRGYxAFKO1%2BAKnL91rg%3D%3D\n",
      ">>> 2175 건 (35.3 %)\n",
      "\n",
      "지역: 울산\n",
      "url: http://apis.data.go.kr/B551011/KorService1/areaBasedList1?areaCode=7&numOfRows=10000000&pageNo=1&MobileOS=ETC&MobileApp=AppTest&_type=json&listYN=Y&arrange=A&serviceKey=rf2THTSq3Rnvz7yUJWlRW2YjsfVvxufJssCC4SgBAcoGXoIE%2FfZH72XMDiy4AYxbmYQXRGYxAFKO1%2BAKnL91rg%3D%3D\n",
      ">>> 654 건 (41.2 %)\n",
      "\n",
      "지역: 세종\n",
      "url: http://apis.data.go.kr/B551011/KorService1/areaBasedList1?areaCode=8&numOfRows=10000000&pageNo=1&MobileOS=ETC&MobileApp=AppTest&_type=json&listYN=Y&arrange=A&serviceKey=rf2THTSq3Rnvz7yUJWlRW2YjsfVvxufJssCC4SgBAcoGXoIE%2FfZH72XMDiy4AYxbmYQXRGYxAFKO1%2BAKnL91rg%3D%3D\n",
      ">>> 203 건 (47.1 %)\n",
      "\n",
      "지역: 경기\n",
      "url: http://apis.data.go.kr/B551011/KorService1/areaBasedList1?areaCode=31&numOfRows=10000000&pageNo=1&MobileOS=ETC&MobileApp=AppTest&_type=json&listYN=Y&arrange=A&serviceKey=rf2THTSq3Rnvz7yUJWlRW2YjsfVvxufJssCC4SgBAcoGXoIE%2FfZH72XMDiy4AYxbmYQXRGYxAFKO1%2BAKnL91rg%3D%3D\n",
      ">>> 9661 건 (52.9 %)\n",
      "\n",
      "지역: 강원\n",
      "url: http://apis.data.go.kr/B551011/KorService1/areaBasedList1?areaCode=32&numOfRows=10000000&pageNo=1&MobileOS=ETC&MobileApp=AppTest&_type=json&listYN=Y&arrange=A&serviceKey=rf2THTSq3Rnvz7yUJWlRW2YjsfVvxufJssCC4SgBAcoGXoIE%2FfZH72XMDiy4AYxbmYQXRGYxAFKO1%2BAKnL91rg%3D%3D\n",
      ">>> 5437 건 (58.8 %)\n",
      "\n",
      "지역: 충북\n",
      "url: http://apis.data.go.kr/B551011/KorService1/areaBasedList1?areaCode=33&numOfRows=10000000&pageNo=1&MobileOS=ETC&MobileApp=AppTest&_type=json&listYN=Y&arrange=A&serviceKey=rf2THTSq3Rnvz7yUJWlRW2YjsfVvxufJssCC4SgBAcoGXoIE%2FfZH72XMDiy4AYxbmYQXRGYxAFKO1%2BAKnL91rg%3D%3D\n",
      ">>> 1940 건 (64.7 %)\n",
      "\n",
      "지역: 충남\n",
      "url: http://apis.data.go.kr/B551011/KorService1/areaBasedList1?areaCode=34&numOfRows=10000000&pageNo=1&MobileOS=ETC&MobileApp=AppTest&_type=json&listYN=Y&arrange=A&serviceKey=rf2THTSq3Rnvz7yUJWlRW2YjsfVvxufJssCC4SgBAcoGXoIE%2FfZH72XMDiy4AYxbmYQXRGYxAFKO1%2BAKnL91rg%3D%3D\n",
      ">>> 2601 건 (70.6 %)\n",
      "\n",
      "지역: 경북\n",
      "url: http://apis.data.go.kr/B551011/KorService1/areaBasedList1?areaCode=35&numOfRows=10000000&pageNo=1&MobileOS=ETC&MobileApp=AppTest&_type=json&listYN=Y&arrange=A&serviceKey=rf2THTSq3Rnvz7yUJWlRW2YjsfVvxufJssCC4SgBAcoGXoIE%2FfZH72XMDiy4AYxbmYQXRGYxAFKO1%2BAKnL91rg%3D%3D\n",
      ">>> 3617 건 (76.5 %)\n",
      "\n",
      "지역: 경남\n",
      "url: http://apis.data.go.kr/B551011/KorService1/areaBasedList1?areaCode=36&numOfRows=10000000&pageNo=1&MobileOS=ETC&MobileApp=AppTest&_type=json&listYN=Y&arrange=A&serviceKey=rf2THTSq3Rnvz7yUJWlRW2YjsfVvxufJssCC4SgBAcoGXoIE%2FfZH72XMDiy4AYxbmYQXRGYxAFKO1%2BAKnL91rg%3D%3D\n",
      ">>> 4039 건 (82.4 %)\n",
      "\n",
      "지역: 전북\n",
      "url: http://apis.data.go.kr/B551011/KorService1/areaBasedList1?areaCode=37&numOfRows=10000000&pageNo=1&MobileOS=ETC&MobileApp=AppTest&_type=json&listYN=Y&arrange=A&serviceKey=rf2THTSq3Rnvz7yUJWlRW2YjsfVvxufJssCC4SgBAcoGXoIE%2FfZH72XMDiy4AYxbmYQXRGYxAFKO1%2BAKnL91rg%3D%3D\n",
      ">>> 2601 건 (88.2 %)\n",
      "\n",
      "지역: 전남\n",
      "url: http://apis.data.go.kr/B551011/KorService1/areaBasedList1?areaCode=38&numOfRows=10000000&pageNo=1&MobileOS=ETC&MobileApp=AppTest&_type=json&listYN=Y&arrange=A&serviceKey=rf2THTSq3Rnvz7yUJWlRW2YjsfVvxufJssCC4SgBAcoGXoIE%2FfZH72XMDiy4AYxbmYQXRGYxAFKO1%2BAKnL91rg%3D%3D\n",
      ">>> 3399 건 (94.1 %)\n",
      "\n",
      "지역: 제주\n",
      "url: http://apis.data.go.kr/B551011/KorService1/areaBasedList1?areaCode=39&numOfRows=10000000&pageNo=1&MobileOS=ETC&MobileApp=AppTest&_type=json&listYN=Y&arrange=A&serviceKey=rf2THTSq3Rnvz7yUJWlRW2YjsfVvxufJssCC4SgBAcoGXoIE%2FfZH72XMDiy4AYxbmYQXRGYxAFKO1%2BAKnL91rg%3D%3D\n",
      ">>> 2417 건 (100.0 %)\n",
      "완료 : 총 50799 건\n"
     ]
    }
   ],
   "source": [
    "from time import sleep\n",
    "import json\n",
    "\n",
    "import requests\n",
    "TIME_WAIT_SEC = 3\n",
    "\n",
    "total_num_of_rows = 0\n",
    "for success_cnt, (area_code, name) in enumerate(area_codes, 1):\n",
    "    url = (TEMPLATE % area_code) + '&serviceKey=' + service_key\n",
    "    print('\\n지역:', name)\n",
    "    print('url:', url)\n",
    "\n",
    "    response: requests.Response = requests.get(url)\n",
    "    body = json.loads(response.content.decode('utf8').replace(\"'\", '\"'))['response']['body']\n",
    "    num_of_rows = body['numOfRows']\n",
    "    total_num_of_rows += num_of_rows\n",
    "    print('>>>', num_of_rows, f'건 ({round(success_cnt / len(area_codes) * 100, 1)} %)')\n",
    "    sleep(TIME_WAIT_SEC)\n",
    "\n",
    "print('완료 : 총', total_num_of_rows, '건')"
   ]
  }
 ],
 "metadata": {
  "kernelspec": {
   "display_name": "venv",
   "language": "python",
   "name": "python3"
  },
  "language_info": {
   "codemirror_mode": {
    "name": "ipython",
    "version": 3
   },
   "file_extension": ".py",
   "mimetype": "text/x-python",
   "name": "python",
   "nbconvert_exporter": "python",
   "pygments_lexer": "ipython3",
   "version": "3.11.9"
  }
 },
 "nbformat": 4,
 "nbformat_minor": 2
}
